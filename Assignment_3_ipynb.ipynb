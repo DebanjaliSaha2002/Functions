{
  "nbformat": 4,
  "nbformat_minor": 0,
  "metadata": {
    "colab": {
      "provenance": []
    },
    "kernelspec": {
      "name": "python3",
      "display_name": "Python 3"
    },
    "language_info": {
      "name": "python"
    }
  },
  "cells": [
    {
      "cell_type": "code",
      "execution_count": null,
      "metadata": {
        "id": "2tN0JHNwy7zQ"
      },
      "outputs": [],
      "source": [
        "# 1.What is the difference between a function and a method in Python?"
      ]
    },
    {
      "cell_type": "code",
      "source": [
        "Ans- Function: A block of code that is organized to perform a specific task. Functions are called by their name directly. They are not associated with any particular object.\n",
        "Example:\n",
        "def greet(name):\n",
        "   return f\"Hello, {name}\"\n",
        "print(greet(\"Alice\"))\n",
        "\n",
        "•Method: A function that is associated with an object (an instance of a class). Methods are called on an object using dot notation (object.method()). The method implicitly receives the object itself as its first argument (conventionally named self).\n",
        "Example:\n",
        "class Greeter:\n",
        "    def greet(self, name):\n",
        "        return f\"Hello, {name}\"\n",
        "g = Greeter()\n",
        "print(g.greet(\"Alice\"))"
      ],
      "metadata": {
        "id": "gKBXng2A03pR"
      },
      "execution_count": null,
      "outputs": []
    },
    {
      "cell_type": "code",
      "source": [
        "# 2.Explain the concept of function arguments and parameters in Python."
      ],
      "metadata": {
        "id": "a4HdIhuw9zGR"
      },
      "execution_count": null,
      "outputs": []
    },
    {
      "cell_type": "markdown",
      "source": [
        "Ans- Parameters: These are the names listed in the function definition. They act as placeholders for the values that will be passed to the function when it is called.\n",
        "\n",
        "Arguments: These are the actual values that are passed to the function when it is called. These values are assigned to the corresponding parameters within the function's scope."
      ],
      "metadata": {
        "id": "tgRjT95--N8L"
      }
    },
    {
      "cell_type": "code",
      "source": [
        "# 3.What are the different ways to define and call a function in Python?"
      ],
      "metadata": {
        "id": "56fQSFaZ-Saw"
      },
      "execution_count": null,
      "outputs": []
    },
    {
      "cell_type": "markdown",
      "source": [
        "1. Regular Function Definition\n",
        "def greet(name):\n",
        "    return f\"Hello, {name}!\"\n",
        "print(greet(\"Alice\"))\n",
        "2.Function with Default Arguments.\n",
        "def greet(name=\"Guest\"):\n",
        "    return f\"Hello, {name}!\"\n",
        "print(greet(\"Bob\"))\n",
        "print(greet())\n",
        "3. Function with Variable-Length Arguments\n",
        "\n",
        "def add(*args):\n",
        "    return sum(args)\n",
        "\n",
        "print(add(1, 2, 3))\n",
        "\n",
        "def show_info(**kwargs):\n",
        "    return kwargs\n",
        "\n",
        "print(show_info(name=\"Alice\", age=30))\n",
        "4.Lambda (Anonymous) Functions\n",
        "square = lambda x: x * x\n",
        "print(square(4))\n",
        "5. Nested Functions\n",
        "\n",
        "def outer():\n",
        "    def inner():\n",
        "        return \"Inner Function\"\n",
        "    return inner()\n",
        "\n",
        "print(outer())\n",
        "6. Recursive Functions\n",
        "\n",
        "def factorial(n):\n",
        "    if n == 0:\n",
        "        return 1\n",
        "    return n * factorial(n - 1)\n",
        "\n",
        "print(factorial(5))\n",
        "7.First-Class and Higher-Order Functions\n",
        "def shout(text):\n",
        "    return text.upper()\n",
        "\n",
        "def whisper(text):\n",
        "    return text.lower()\n",
        "\n",
        "def speak(func):\n",
        "    return func(\"Hello\")\n",
        "\n",
        "print(speak(shout))\n",
        "print(speak(whisper))\n",
        "8. Method in a Class\n",
        "\n",
        "class Greeter:\n",
        "    def greet(self, name):\n",
        "        return f\"Hello, {name}!\"\n",
        "\n",
        "g = Greeter()\n",
        "print(g.greet(\"Alice\"))"
      ],
      "metadata": {
        "id": "ZAA15FW2-c2x"
      }
    },
    {
      "cell_type": "code",
      "source": [
        "# 4.What is the purpose of the return statement in a Python function?"
      ],
      "metadata": {
        "id": "BrtAGcyqEdIv"
      },
      "execution_count": null,
      "outputs": []
    },
    {
      "cell_type": "markdown",
      "source": [
        "Ans-\n",
        "1.Exiting the Function: When a return statement is encountered, the function immediately stops its execution. Any code within the function that comes after the return statement will not be executed.\n",
        "\n",
        "2.Passing Data Back: Optionally, the return statement can be followed by an expression or a value. This value is sent back to the part of the code that called the function (the caller). If no expression is specified, or if the return statement is omitted entirely, the function implicitly returns None."
      ],
      "metadata": {
        "id": "rrexla-RF2c_"
      }
    },
    {
      "cell_type": "code",
      "source": [
        "# 5.What are iterators in Python and how do they differ from iterables?"
      ],
      "metadata": {
        "id": "HoEGOCrsGEow"
      },
      "execution_count": null,
      "outputs": []
    },
    {
      "cell_type": "markdown",
      "source": [
        "Ans- 1.Iterable:\n",
        "•An iterable is an object that can be looped over, meaning you can iterate over its elements one by one.\n",
        "•It is any Python object capable of returning its members one at a time.\n",
        "•Technically, an object is iterable if it implements the _iter_() method, which returns an iterator.\n",
        "•Examples: Lists, tuples, strings, dictionaries, sets, files.\n",
        "\n",
        "2.Iterator:\n",
        "•An iterator is an object that represents a stream of data. It produces the next value in the sequence when you call the next() function on it (or its _next_() method).\n",
        "•It remembers its state, i.e., where it is during iteration.\n",
        "•Technically, an object is an iterator if it implements the _next() method (which returns the next item and raises StopIteration when exhausted) and the __iter_() method (which returns self)."
      ],
      "metadata": {
        "id": "9zpXC7C7GLlV"
      }
    },
    {
      "cell_type": "code",
      "source": [
        "# 6.Explain the concept of generators in Python and how they are defined."
      ],
      "metadata": {
        "id": "xE8CNoqgGeNt"
      },
      "execution_count": null,
      "outputs": []
    },
    {
      "cell_type": "markdown",
      "source": [
        "Ans- Generators are a simple way to create iterators. They are functions that use the yield keyword to produce a sequence of values lazily (one at a time), saving memory.\n",
        "\n",
        "•Defined using yield in a function\n",
        "def my_gen(n):\n",
        "    for i in range(n):\n",
        "        yield i * i\n",
        "for val in my_gen(3):\n",
        "    print(val)\n",
        "    \n",
        "•Using Generator Expressions\n",
        "squares = (x*x for x in range(5))\n",
        "\n",
        "for num in squares:\n",
        "    print(num)"
      ],
      "metadata": {
        "id": "jhBVe-sYGnJQ"
      }
    },
    {
      "cell_type": "code",
      "source": [
        "# 7.What are the advantages of using generators over regular functions (that return lists)?"
      ],
      "metadata": {
        "id": "MKRxB7j1GuYG"
      },
      "execution_count": null,
      "outputs": []
    },
    {
      "cell_type": "markdown",
      "source": [
        "Ans- •Memory Efficient: Produce items one by one, not all at once.\n",
        "•Lazy Evaluation: Compute values only when needed.\n",
        "•Can represent infinite sequences.\n",
        "•Simpler syntax for creating custom iterators."
      ],
      "metadata": {
        "id": "vqKqcMIVG0ld"
      }
    },
    {
      "cell_type": "code",
      "source": [
        "# 8.What is a lambda function in Python and when is it typically used?"
      ],
      "metadata": {
        "id": "IEqe80I7G6-j"
      },
      "execution_count": null,
      "outputs": []
    },
    {
      "cell_type": "markdown",
      "source": [
        "Ans- A lambda function is a small, anonymous, single-expression function.\n",
        "•Syntax: lambda arguments: expression\n",
        "•Typically used: As an argument to higher-order functions like map(), filter(), sorted(), or for simple, short-lived operations.\n",
        "numbers = [1, 2, 3]\n",
        "doubled = list(map(lambda x: x * 2, numbers))\n",
        "print(doubled)"
      ],
      "metadata": {
        "id": "FHcix8VXHC18"
      }
    },
    {
      "cell_type": "code",
      "source": [
        "# 9.Explain the purpose and usage of the map() function in Python."
      ],
      "metadata": {
        "id": "K6RMUupTHOl6"
      },
      "execution_count": null,
      "outputs": []
    },
    {
      "cell_type": "markdown",
      "source": [
        "Ans- map() applies a given function to each item of an iterable (or iterables) and returns a map object (an iterator) of the results.\n",
        "words = [\"hello\", \"world\"]\n",
        "upper_words = list(map(str.upper, words))\n",
        "print(upper_words)"
      ],
      "metadata": {
        "id": "1-Y849V7HVog"
      }
    },
    {
      "cell_type": "code",
      "source": [
        "# 10.What is the difference between map(), reduce(), and filter() functions in Python?"
      ],
      "metadata": {
        "id": "vLYVUSBZHdRw"
      },
      "execution_count": null,
      "outputs": []
    },
    {
      "cell_type": "markdown",
      "source": [
        "Ans- •map(func, iter): Applies func to each item in iter, returns an iterator of results. (Transforms each element).\n",
        "list(map(lambda x: x*2, [1,2,3])) # -> [2,4,6]\n",
        "•filter(func, iter): Returns an iterator of items from iter for which func returns True. (Selects elements).\n",
        "list(filter(lambda x: x > 1, [0,1,2,3]))"
      ],
      "metadata": {
        "id": "sCqo5lm5HjKS"
      }
    },
    {
      "cell_type": "markdown",
      "source": [
        "**PRACTICAL**"
      ],
      "metadata": {
        "id": "njo0YBKMINmA"
      }
    },
    {
      "cell_type": "code",
      "source": [
        "# 1.Write a Python function that takes a list of numbers as input and returns the sum of all even numbers in the list"
      ],
      "metadata": {
        "id": "1A_Zhau3Ho6T"
      },
      "execution_count": null,
      "outputs": []
    },
    {
      "cell_type": "code",
      "source": [
        "def sum_of_evens(numbers):\n",
        "    # Filter out the even numbers and sum them\n",
        "    return sum(num for num in numbers if num % 2 == 0)\n",
        "\n",
        "# Example usage\n",
        "numbers = [47, 11, 42, 13, 6, 8]\n",
        "result = sum_of_evens(numbers)\n",
        "print(\"Sum of even numbers:\", result)"
      ],
      "metadata": {
        "colab": {
          "base_uri": "https://localhost:8080/"
        },
        "id": "D3xnGWCFYSN4",
        "outputId": "41331943-2a7c-47c6-cff6-044c271f618d"
      },
      "execution_count": 13,
      "outputs": [
        {
          "output_type": "stream",
          "name": "stdout",
          "text": [
            "Sum of even numbers: 56\n"
          ]
        }
      ]
    },
    {
      "cell_type": "code",
      "source": [
        "# 2.Create a Python function that accepts a string and returns the reverse of that string."
      ],
      "metadata": {
        "id": "5Ts6md0dIpNb"
      },
      "execution_count": null,
      "outputs": []
    },
    {
      "cell_type": "code",
      "source": [
        "\n",
        "input_string = \"debanjali\"\n",
        "reversed_string = reverse_string(input_string)\n",
        "print(\"Reversed string:\", reversed_string)"
      ],
      "metadata": {
        "colab": {
          "base_uri": "https://localhost:8080/"
        },
        "id": "pcEz2djCXP1J",
        "outputId": "4160dbc9-0948-4057-bd94-f02f316bddc4"
      },
      "execution_count": 8,
      "outputs": [
        {
          "output_type": "stream",
          "name": "stdout",
          "text": [
            "Reversed string: ilajnabed\n"
          ]
        }
      ]
    },
    {
      "cell_type": "code",
      "source": [
        "# 3.Implement a Python function that takes a list of integers and returns a new list containing the squares of each number."
      ],
      "metadata": {
        "id": "6JvucpY1OaQj"
      },
      "execution_count": null,
      "outputs": []
    },
    {
      "cell_type": "code",
      "source": [
        "def square_numbers(numbers):\n",
        "    return [num ** 2 for num in numbers]\n",
        "\n",
        "# Example usage\n",
        "input_numbers = [1, 2, 3, 4, 5]\n",
        "squared_numbers = square_numbers(input_numbers)\n",
        "print(\"Squared numbers:\", squared_numbers)\n",
        ""
      ],
      "metadata": {
        "colab": {
          "base_uri": "https://localhost:8080/"
        },
        "id": "p4ud-manYpSC",
        "outputId": "b5c5e90d-9f58-4ce2-8128-757fabf64e63"
      },
      "execution_count": 16,
      "outputs": [
        {
          "output_type": "stream",
          "name": "stdout",
          "text": [
            "Squared numbers: [1, 4, 9, 16, 25]\n"
          ]
        }
      ]
    },
    {
      "cell_type": "code",
      "source": [
        "# 4.Write a Python function that checks if a given number is prime or not from 1 to 200."
      ],
      "metadata": {
        "id": "Ten-TpJsQk1o"
      },
      "execution_count": null,
      "outputs": []
    },
    {
      "cell_type": "code",
      "source": [
        "def is_prime(n):\n",
        "    # Check if the number is less than 2\n",
        "    if n <= 1:\n",
        "        return False\n",
        "\n",
        "    # Check divisibility from 2 to sqrt(n)\n",
        "    for i in range(2, int(n ** 0.5) + 1):\n",
        "        if n % i == 0:\n",
        "            return False  # n is divisible by i, so it's not prime\n",
        "\n",
        "    return True  # n is prime\n",
        "\n",
        "# Get user input\n",
        "user_input = int(input(\"Enter a number between 1 and 200 to check if it's prime: \"))\n",
        "\n",
        "# Check if the input is within the valid range\n",
        "if 1 <= user_input <= 200:\n",
        "    if is_prime(user_input):\n",
        "        print(f\"{user_input} is a prime number.\")\n",
        "    else:\n",
        "        print(f\"{user_input} is not a prime number.\")\n",
        "else:\n",
        "    print(\"Please enter a number between 1 and 200.\")"
      ],
      "metadata": {
        "colab": {
          "base_uri": "https://localhost:8080/"
        },
        "id": "wpkVFS4hZciW",
        "outputId": "c29bf8b1-5715-4d47-f6cc-74cc16e7c4b1"
      },
      "execution_count": 17,
      "outputs": [
        {
          "output_type": "stream",
          "name": "stdout",
          "text": [
            "Enter a number between 1 and 200 to check if it's prime: 4\n",
            "4 is not a prime number.\n"
          ]
        }
      ]
    },
    {
      "cell_type": "code",
      "source": [
        "# 5.Create an iterator class in Python that generates the Fibonacci sequence up to a specified number of terms"
      ],
      "metadata": {
        "id": "jg3LsI9NRNDN"
      },
      "execution_count": null,
      "outputs": []
    },
    {
      "cell_type": "code",
      "source": [
        "class FibonacciIterator:\n",
        "    def _init_(self, n):\n",
        "        self.n = n\n",
        "        self.a, self.b = 0, 1\n",
        "        self.count = 0\n",
        "\n",
        "    def _iter_(self):\n",
        "        return self\n",
        "\n",
        "    def _next_(self):\n",
        "        if self.count >= self.n:\n",
        "            raise StopIteration\n",
        "\n",
        "        fibonacci_number = self.a\n",
        "        self.a, self.b = self.b, self.a + self.b\n",
        "        self.count += 1\n",
        "        return fibonacci_number\n",
        "\n",
        "num_terms = int(input(\"Enter the number of Fibonacci terms you want: \"))\n",
        "fibonacci_sequence = FibonacciIterator(num_terms)\n",
        "\n",
        "for number in fibonacci_sequence:\n",
        "    print(number,end=\" \")"
      ],
      "metadata": {
        "colab": {
          "base_uri": "https://localhost:8080/",
          "height": 236
        },
        "id": "xKnL27ESZzHh",
        "outputId": "88857f52-f689-4dd3-d91f-88fcd73b95e7"
      },
      "execution_count": 21,
      "outputs": [
        {
          "name": "stdout",
          "output_type": "stream",
          "text": [
            "Enter the number of Fibonacci terms you want: 4\n"
          ]
        },
        {
          "output_type": "error",
          "ename": "TypeError",
          "evalue": "FibonacciIterator() takes no arguments",
          "traceback": [
            "\u001b[0;31m---------------------------------------------------------------------------\u001b[0m",
            "\u001b[0;31mTypeError\u001b[0m                                 Traceback (most recent call last)",
            "\u001b[0;32m<ipython-input-21-44826c377f8e>\u001b[0m in \u001b[0;36m<cell line: 0>\u001b[0;34m()\u001b[0m\n\u001b[1;32m     18\u001b[0m \u001b[0;34m\u001b[0m\u001b[0m\n\u001b[1;32m     19\u001b[0m \u001b[0mnum_terms\u001b[0m \u001b[0;34m=\u001b[0m \u001b[0mint\u001b[0m\u001b[0;34m(\u001b[0m\u001b[0minput\u001b[0m\u001b[0;34m(\u001b[0m\u001b[0;34m\"Enter the number of Fibonacci terms you want: \"\u001b[0m\u001b[0;34m)\u001b[0m\u001b[0;34m)\u001b[0m\u001b[0;34m\u001b[0m\u001b[0;34m\u001b[0m\u001b[0m\n\u001b[0;32m---> 20\u001b[0;31m \u001b[0mfibonacci_sequence\u001b[0m \u001b[0;34m=\u001b[0m \u001b[0mFibonacciIterator\u001b[0m\u001b[0;34m(\u001b[0m\u001b[0mnum_terms\u001b[0m\u001b[0;34m)\u001b[0m\u001b[0;34m\u001b[0m\u001b[0;34m\u001b[0m\u001b[0m\n\u001b[0m\u001b[1;32m     21\u001b[0m \u001b[0;34m\u001b[0m\u001b[0m\n\u001b[1;32m     22\u001b[0m \u001b[0;32mfor\u001b[0m \u001b[0mnumber\u001b[0m \u001b[0;32min\u001b[0m \u001b[0mfibonacci_sequence\u001b[0m\u001b[0;34m:\u001b[0m\u001b[0;34m\u001b[0m\u001b[0;34m\u001b[0m\u001b[0m\n",
            "\u001b[0;31mTypeError\u001b[0m: FibonacciIterator() takes no arguments"
          ]
        }
      ]
    },
    {
      "cell_type": "code",
      "source": [
        "# 6.Write a generator function in Python that yields the powers of 2 up to a given exponent."
      ],
      "metadata": {
        "id": "SEUY_NkaaL3L"
      },
      "execution_count": null,
      "outputs": []
    },
    {
      "cell_type": "code",
      "source": [
        "def powers_of_two(exponent):\n",
        "    for i in range(exponent + 1):  # From 0 to the given exponent (inclusive)\n",
        "        yield 2 ** i  # Yield 2 raised to the power of i\n",
        "\n",
        "# Example usage:\n",
        "exponent = int(input(\"Enter the exponent to generate powers of 2: \"))\n",
        "for power in powers_of_two(exponent):\n",
        "    print(power,end=\" \")"
      ],
      "metadata": {
        "colab": {
          "base_uri": "https://localhost:8080/"
        },
        "id": "WOLrV4xaacQL",
        "outputId": "d245d4be-7f53-4393-95c5-a37eaa167c7c"
      },
      "execution_count": 23,
      "outputs": [
        {
          "output_type": "stream",
          "name": "stdout",
          "text": [
            "Enter the exponent to generate powers of 2: 4\n",
            "1 2 4 8 16 "
          ]
        }
      ]
    },
    {
      "cell_type": "code",
      "source": [
        "# 7.Implement a generator function that reads a file line by line and yields each line as a string."
      ],
      "metadata": {
        "id": "lScsOojCasQH"
      },
      "execution_count": null,
      "outputs": []
    },
    {
      "cell_type": "code",
      "source": [
        "def read_file_line_by_line(file_path):\n",
        "    try:\n",
        "        with open(file_path, 'r') as file:\n",
        "            for line in file:\n",
        "                yield line.strip()  # Yield each line, removing any extra newline characters\n",
        "    except FileNotFoundError:\n",
        "        print(f\"Error: The file '{file_path}' was not found.\")\n",
        "    except Exception as e:\n",
        "        print(f\"Error: {e}\")\n",
        "\n",
        "# Example usage:\n",
        "file_path = input(\"Enter the path to the file: \")\n",
        "for line in read_file_line_by_line(file_path):\n",
        "    print(line)"
      ],
      "metadata": {
        "colab": {
          "base_uri": "https://localhost:8080/"
        },
        "id": "V7h-9dHEay0O",
        "outputId": "65cdde3b-6082-4c2a-8c2d-7db6ca1f0cbf"
      },
      "execution_count": 26,
      "outputs": [
        {
          "output_type": "stream",
          "name": "stdout",
          "text": [
            "Enter the path to the file: error\n",
            "Error: The file 'error' was not found.\n"
          ]
        }
      ]
    },
    {
      "cell_type": "code",
      "source": [
        "# 8.Use a lambda function in Python to sort a list of tuples based on the second element of each tuple."
      ],
      "metadata": {
        "id": "gcJGByvMbUm4"
      },
      "execution_count": null,
      "outputs": []
    },
    {
      "cell_type": "code",
      "source": [
        "data = [(1, 3), (4, 1), (2, 2), (5, 0)]\n",
        "sorted_data = sorted(data, key=lambda x: x[1])\n",
        "\n",
        "print(sorted_data)"
      ],
      "metadata": {
        "colab": {
          "base_uri": "https://localhost:8080/"
        },
        "id": "QgKp2WZjbWTx",
        "outputId": "887f9e2e-439d-4980-f3aa-1aa7c609177d"
      },
      "execution_count": 27,
      "outputs": [
        {
          "output_type": "stream",
          "name": "stdout",
          "text": [
            "[(5, 0), (4, 1), (2, 2), (1, 3)]\n"
          ]
        }
      ]
    },
    {
      "cell_type": "code",
      "source": [
        "# 9.Write a Python program that uses map() to convert a list of temperatures from Celsius to Fahrenheit."
      ],
      "metadata": {
        "id": "gyNkQyfvbdlw"
      },
      "execution_count": null,
      "outputs": []
    },
    {
      "cell_type": "code",
      "source": [
        "celsius_temps = [0, 20, 37, 100]\n",
        "fahrenheit_temps = list(map(lambda c: (c * 9/5) + 32, celsius_temps))\n",
        "\n",
        "print(fahrenheit_temps)"
      ],
      "metadata": {
        "colab": {
          "base_uri": "https://localhost:8080/"
        },
        "id": "Amt2sfb5bhQS",
        "outputId": "baf36e33-142d-4a1e-d5dc-a678a3335bbb"
      },
      "execution_count": 28,
      "outputs": [
        {
          "output_type": "stream",
          "name": "stdout",
          "text": [
            "[32.0, 68.0, 98.6, 212.0]\n"
          ]
        }
      ]
    },
    {
      "cell_type": "code",
      "source": [
        "# 10.Create a Python program that uses filter() to remove all the vowels from a given string."
      ],
      "metadata": {
        "id": "-l6mx8aLbuNQ"
      },
      "execution_count": null,
      "outputs": []
    },
    {
      "cell_type": "code",
      "source": [
        "def is_not_vowel(char):\n",
        "    vowels = 'aeiouAEIOU'\n",
        "    return char not in vowels\n",
        "input_string = \"Hello, World!\"\n",
        "filtered_string = ''.join(filter(is_not_vowel, input_string))\n",
        "\n",
        "print(filtered_string)"
      ],
      "metadata": {
        "colab": {
          "base_uri": "https://localhost:8080/"
        },
        "id": "QmrdZ2GVbv1c",
        "outputId": "67d9377c-3bf5-4f71-92c3-52224e658cb9"
      },
      "execution_count": 29,
      "outputs": [
        {
          "output_type": "stream",
          "name": "stdout",
          "text": [
            "Hll, Wrld!\n"
          ]
        }
      ]
    },
    {
      "cell_type": "code",
      "source": [
        "# 11.Imagine an accounting routine used in a book shop. It works on a list with sublists, which look like this"
      ],
      "metadata": {
        "id": "VT49H3HRcFDA"
      },
      "execution_count": null,
      "outputs": []
    },
    {
      "cell_type": "code",
      "source": [
        "orders = [\n",
        "    [34587, \"Learning Python, Mark Lutz\", 4, 40.95],\n",
        "    [98762, \"Programming Python, Mark Lutz\", 5, 56.80],\n",
        "    [77226, \"Head First Python, Paul Barry\", 3, 32.95],\n",
        "    [88112, \"Einführung in Python3, Bernd Klein\", 3, 24.99]\n",
        "]\n",
        "result = list(map(\n",
        "    lambda order: (order[0], round(order[2] * order[3] + (10 if order[2] * order[3] < 100 else 0), 2)),\n",
        "    orders\n",
        "))\n",
        "print(result)"
      ],
      "metadata": {
        "colab": {
          "base_uri": "https://localhost:8080/"
        },
        "id": "aeGXViV4cGWv",
        "outputId": "06e2fd8b-48e6-47ab-f3b6-4c0887d6bd4a"
      },
      "execution_count": 30,
      "outputs": [
        {
          "output_type": "stream",
          "name": "stdout",
          "text": [
            "[(34587, 163.8), (98762, 284.0), (77226, 108.85), (88112, 84.97)]\n"
          ]
        }
      ]
    }
  ]
}